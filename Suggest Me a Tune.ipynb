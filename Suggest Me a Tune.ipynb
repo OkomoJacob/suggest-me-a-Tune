{
 "cells": [
  {
   "cell_type": "markdown",
   "id": "crucial-yahoo",
   "metadata": {},
   "source": [
    "### Step 0: Import the necessary Packages"
   ]
  },
  {
   "cell_type": "code",
   "execution_count": 21,
   "id": "ambient-front",
   "metadata": {},
   "outputs": [],
   "source": [
    "import pandas as pd\n",
    "from sklearn.tree import DecisionTreeClassifier\n",
    "from sklearn.model_selection import train_test_split"
   ]
  },
  {
   "cell_type": "markdown",
   "id": "thirty-graphics",
   "metadata": {},
   "source": [
    "### Step 1: Import the Data"
   ]
  },
  {
   "cell_type": "code",
   "execution_count": 2,
   "id": "printable-modem",
   "metadata": {},
   "outputs": [],
   "source": [
    "musicData = pd.read_csv('music.csv')"
   ]
  },
  {
   "cell_type": "code",
   "execution_count": 20,
   "id": "immune-scenario",
   "metadata": {},
   "outputs": [
    {
     "data": {
      "text/html": [
       "<div>\n",
       "<style scoped>\n",
       "    .dataframe tbody tr th:only-of-type {\n",
       "        vertical-align: middle;\n",
       "    }\n",
       "\n",
       "    .dataframe tbody tr th {\n",
       "        vertical-align: top;\n",
       "    }\n",
       "\n",
       "    .dataframe thead th {\n",
       "        text-align: right;\n",
       "    }\n",
       "</style>\n",
       "<table border=\"1\" class=\"dataframe\">\n",
       "  <thead>\n",
       "    <tr style=\"text-align: right;\">\n",
       "      <th></th>\n",
       "      <th>age</th>\n",
       "      <th>gender</th>\n",
       "      <th>genre</th>\n",
       "    </tr>\n",
       "  </thead>\n",
       "  <tbody>\n",
       "    <tr>\n",
       "      <th>0</th>\n",
       "      <td>20</td>\n",
       "      <td>1</td>\n",
       "      <td>HipHop</td>\n",
       "    </tr>\n",
       "    <tr>\n",
       "      <th>1</th>\n",
       "      <td>23</td>\n",
       "      <td>1</td>\n",
       "      <td>HipHop</td>\n",
       "    </tr>\n",
       "    <tr>\n",
       "      <th>2</th>\n",
       "      <td>25</td>\n",
       "      <td>1</td>\n",
       "      <td>HipHop</td>\n",
       "    </tr>\n",
       "    <tr>\n",
       "      <th>3</th>\n",
       "      <td>26</td>\n",
       "      <td>1</td>\n",
       "      <td>Jazz</td>\n",
       "    </tr>\n",
       "    <tr>\n",
       "      <th>4</th>\n",
       "      <td>29</td>\n",
       "      <td>1</td>\n",
       "      <td>Jazz</td>\n",
       "    </tr>\n",
       "  </tbody>\n",
       "</table>\n",
       "</div>"
      ],
      "text/plain": [
       "   age  gender   genre\n",
       "0   20       1  HipHop\n",
       "1   23       1  HipHop\n",
       "2   25       1  HipHop\n",
       "3   26       1    Jazz\n",
       "4   29       1    Jazz"
      ]
     },
     "execution_count": 20,
     "metadata": {},
     "output_type": "execute_result"
    }
   ],
   "source": [
    "musicData.head(5)"
   ]
  },
  {
   "cell_type": "markdown",
   "id": "surrounded-respondent",
   "metadata": {},
   "source": [
    "We will jump step 2, `cleaning Data` since our data is clean and doesn't need to be cleaned need to split our data into input and output sets, this means that we will be giving our model input(age and gender) then it will be giving us output(which in this case is the genre)"
   ]
  },
  {
   "cell_type": "markdown",
   "id": "oriental-airport",
   "metadata": {},
   "source": [
    "### Step 3: Spliting the Data into Input or Output"
   ]
  },
  {
   "cell_type": "code",
   "execution_count": 23,
   "id": "capable-active",
   "metadata": {},
   "outputs": [],
   "source": [
    "X = musicData.drop(columns = 'genre')\n",
    "y = musicData['genre']"
   ]
  },
  {
   "cell_type": "markdown",
   "id": "heard-bernard",
   "metadata": {},
   "source": [
    " - we can now see that the new input set has genre column droped by just calling X and y"
   ]
  },
  {
   "cell_type": "markdown",
   "id": "solved-agent",
   "metadata": {},
   "source": [
    "### Output sets"
   ]
  },
  {
   "cell_type": "markdown",
   "id": "fluid-craft",
   "metadata": {},
   "source": [
    "### Step 4: Create a Model"
   ]
  },
  {
   "cell_type": "markdown",
   "id": "hollywood-transition",
   "metadata": {},
   "source": [
    "- We will use a Model called Decision Tree, it's found from sklearn"
   ]
  },
  {
   "cell_type": "code",
   "execution_count": 14,
   "id": "welcome-measure",
   "metadata": {},
   "outputs": [],
   "source": [
    "model = DecisionTreeClassifier()"
   ]
  },
  {
   "cell_type": "markdown",
   "id": "median-english",
   "metadata": {},
   "source": [
    "### Step 5: Train(Fit) the model using the input and output"
   ]
  },
  {
   "cell_type": "code",
   "execution_count": 15,
   "id": "informational-knitting",
   "metadata": {},
   "outputs": [
    {
     "data": {
      "text/plain": [
       "DecisionTreeClassifier()"
      ]
     },
     "execution_count": 15,
     "metadata": {},
     "output_type": "execute_result"
    }
   ],
   "source": [
    "model.fit(X_train, y_train)"
   ]
  },
  {
   "cell_type": "markdown",
   "id": "wrong-paraguay",
   "metadata": {},
   "source": [
    "### Step 6: Make predictions\n",
    "- This takes a 2D array of both age and gender then passes it to the model"
   ]
  },
  {
   "cell_type": "code",
   "execution_count": 18,
   "id": "center-lloyd",
   "metadata": {},
   "outputs": [
    {
     "data": {
      "text/plain": [
       "array(['HipHop', 'Acoustic'], dtype=object)"
      ]
     },
     "execution_count": 18,
     "metadata": {},
     "output_type": "execute_result"
    }
   ],
   "source": [
    "model.predict([[21, 1], [30.5, 0]])"
   ]
  },
  {
   "cell_type": "markdown",
   "id": "spectacular-breach",
   "metadata": {},
   "source": [
    " ### Step 7: Evaluate and Improve the performance of the Model\n",
    " - We first split our data into train/test. We use 70-80% of the data as train and the 30-20% of the rest as testing and measuring the accuracy of the Model.We will import `train_test_split from sklearn`, which returns a tuple.We then unpack into four varaiables `(X_train, X_test, y_train, y_test)`"
   ]
  },
  {
   "cell_type": "code",
   "execution_count": null,
   "id": "raised-designation",
   "metadata": {},
   "outputs": [],
   "source": []
  }
 ],
 "metadata": {
  "kernelspec": {
   "display_name": "Python 3",
   "language": "python",
   "name": "python3"
  },
  "language_info": {
   "codemirror_mode": {
    "name": "ipython",
    "version": 3
   },
   "file_extension": ".py",
   "mimetype": "text/x-python",
   "name": "python",
   "nbconvert_exporter": "python",
   "pygments_lexer": "ipython3",
   "version": "3.8.5"
  }
 },
 "nbformat": 4,
 "nbformat_minor": 5
}
